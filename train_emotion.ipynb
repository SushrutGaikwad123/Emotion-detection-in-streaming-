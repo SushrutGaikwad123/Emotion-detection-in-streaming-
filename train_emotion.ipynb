{
 "cells": [
  {
   "cell_type": "code",
   "execution_count": 1,
   "id": "7cf1a6cd",
   "metadata": {},
   "outputs": [
    {
     "name": "stdout",
     "output_type": "stream",
     "text": [
      "WARNING:tensorflow:From C:\\Users\\User\\anaconda3\\Lib\\site-packages\\keras\\src\\losses.py:2976: The name tf.losses.sparse_softmax_cross_entropy is deprecated. Please use tf.compat.v1.losses.sparse_softmax_cross_entropy instead.\n",
      "\n"
     ]
    }
   ],
   "source": [
    "# import required packages\n",
    "import cv2\n",
    "from keras.models import Sequential\n",
    "from keras.layers import Conv2D, MaxPooling2D, Dense, Dropout, Flatten\n",
    "from keras.optimizers import Adam\n",
    "from keras.preprocessing.image import ImageDataGenerator\n",
    "from tensorflow.keras.callbacks import ModelCheckpoint, ReduceLROnPlateau\n"
   ]
  },
  {
   "cell_type": "code",
   "execution_count": 2,
   "id": "0c66109e",
   "metadata": {},
   "outputs": [],
   "source": [
    "# Initialize image data generator with rescaling\n",
    "train_data_gen = ImageDataGenerator(rescale=1./255)\n",
    "validation_data_gen = ImageDataGenerator(rescale=1./255)"
   ]
  },
  {
   "cell_type": "code",
   "execution_count": 3,
   "id": "ee8ebeb2",
   "metadata": {},
   "outputs": [
    {
     "name": "stdout",
     "output_type": "stream",
     "text": [
      "Found 28709 images belonging to 7 classes.\n"
     ]
    }
   ],
   "source": [
    "# Preprocess all test images\n",
    "train_generator = train_data_gen.flow_from_directory(\n",
    "        'data/train',\n",
    "        target_size=(48, 48),\n",
    "        batch_size=64,\n",
    "        color_mode=\"grayscale\",\n",
    "        class_mode='categorical')"
   ]
  },
  {
   "cell_type": "code",
   "execution_count": 4,
   "id": "305a9a9c",
   "metadata": {},
   "outputs": [
    {
     "name": "stdout",
     "output_type": "stream",
     "text": [
      "Found 7178 images belonging to 7 classes.\n"
     ]
    }
   ],
   "source": [
    "# Preprocess all train images\n",
    "validation_generator = validation_data_gen.flow_from_directory(\n",
    "        'data/test',\n",
    "        target_size=(48, 48),\n",
    "        batch_size=64,\n",
    "        color_mode=\"grayscale\",\n",
    "        class_mode='categorical')"
   ]
  },
  {
   "cell_type": "code",
   "execution_count": 5,
   "id": "c337520f",
   "metadata": {},
   "outputs": [
    {
     "name": "stdout",
     "output_type": "stream",
     "text": [
      "WARNING:tensorflow:From C:\\Users\\User\\anaconda3\\Lib\\site-packages\\keras\\src\\backend.py:873: The name tf.get_default_graph is deprecated. Please use tf.compat.v1.get_default_graph instead.\n",
      "\n",
      "WARNING:tensorflow:From C:\\Users\\User\\anaconda3\\Lib\\site-packages\\keras\\src\\layers\\pooling\\max_pooling2d.py:161: The name tf.nn.max_pool is deprecated. Please use tf.nn.max_pool2d instead.\n",
      "\n"
     ]
    }
   ],
   "source": [
    "# create model structure\n",
    "emotion_model = Sequential()\n",
    "\n",
    "emotion_model.add(Conv2D(32, kernel_size=(3, 3), activation='relu', input_shape=(48, 48, 1)))\n",
    "emotion_model.add(Conv2D(64, kernel_size=(3, 3), activation='relu'))\n",
    "emotion_model.add(MaxPooling2D(pool_size=(2, 2)))\n",
    "emotion_model.add(Dropout(0.25))\n",
    "\n",
    "emotion_model.add(Conv2D(128, kernel_size=(3, 3), activation='relu'))\n",
    "emotion_model.add(MaxPooling2D(pool_size=(2, 2)))\n",
    "emotion_model.add(Conv2D(128, kernel_size=(3, 3), activation='relu'))\n",
    "emotion_model.add(MaxPooling2D(pool_size=(2, 2)))\n",
    "emotion_model.add(Dropout(0.25))\n",
    "\n",
    "emotion_model.add(Flatten())\n",
    "emotion_model.add(Dense(1024, activation='relu'))\n",
    "emotion_model.add(Dropout(0.5))\n",
    "emotion_model.add(Dense(7, activation='softmax'))\n",
    "\n",
    "cv2.ocl.setUseOpenCL(False)\n",
    "\n",
    "emotion_model.compile(loss='categorical_crossentropy', optimizer=Adam(learning_rate=0.0001, beta_1=0.9, beta_2=0.999, epsilon=1e-07), metrics=['accuracy'])\n"
   ]
  },
  {
   "cell_type": "code",
   "execution_count": 6,
   "id": "1e7377dc",
   "metadata": {
    "scrolled": false
   },
   "outputs": [
    {
     "name": "stdout",
     "output_type": "stream",
     "text": [
      "Epoch 1/50\n",
      "WARNING:tensorflow:From C:\\Users\\User\\anaconda3\\Lib\\site-packages\\keras\\src\\utils\\tf_utils.py:492: The name tf.ragged.RaggedTensorValue is deprecated. Please use tf.compat.v1.ragged.RaggedTensorValue instead.\n",
      "\n",
      "WARNING:tensorflow:From C:\\Users\\User\\anaconda3\\Lib\\site-packages\\keras\\src\\engine\\base_layer_utils.py:384: The name tf.executing_eagerly_outside_functions is deprecated. Please use tf.compat.v1.executing_eagerly_outside_functions instead.\n",
      "\n",
      "448/448 [==============================] - 306s 678ms/step - loss: 1.7940 - accuracy: 0.2670 - val_loss: 1.6826 - val_accuracy: 0.3530\n",
      "Epoch 2/50\n",
      "448/448 [==============================] - 278s 620ms/step - loss: 1.6121 - accuracy: 0.3737 - val_loss: 1.5306 - val_accuracy: 0.4234\n",
      "Epoch 3/50\n",
      "448/448 [==============================] - 363s 810ms/step - loss: 1.5085 - accuracy: 0.4173 - val_loss: 1.4421 - val_accuracy: 0.4541\n",
      "Epoch 4/50\n",
      "448/448 [==============================] - 135s 301ms/step - loss: 1.4332 - accuracy: 0.4547 - val_loss: 1.3818 - val_accuracy: 0.4771\n",
      "Epoch 5/50\n",
      "448/448 [==============================] - 133s 296ms/step - loss: 1.3794 - accuracy: 0.4739 - val_loss: 1.3380 - val_accuracy: 0.4869\n",
      "Epoch 6/50\n",
      "448/448 [==============================] - 124s 276ms/step - loss: 1.3273 - accuracy: 0.4932 - val_loss: 1.2941 - val_accuracy: 0.5039\n",
      "Epoch 7/50\n",
      "448/448 [==============================] - 128s 285ms/step - loss: 1.2866 - accuracy: 0.5132 - val_loss: 1.2606 - val_accuracy: 0.5206\n",
      "Epoch 8/50\n",
      "448/448 [==============================] - 125s 279ms/step - loss: 1.2479 - accuracy: 0.5253 - val_loss: 1.2358 - val_accuracy: 0.5269\n",
      "Epoch 9/50\n",
      "448/448 [==============================] - 127s 284ms/step - loss: 1.2124 - accuracy: 0.5440 - val_loss: 1.2084 - val_accuracy: 0.5370\n",
      "Epoch 10/50\n",
      "448/448 [==============================] - 121s 271ms/step - loss: 1.1784 - accuracy: 0.5552 - val_loss: 1.1958 - val_accuracy: 0.5423\n",
      "Epoch 11/50\n",
      "448/448 [==============================] - 125s 280ms/step - loss: 1.1458 - accuracy: 0.5728 - val_loss: 1.1646 - val_accuracy: 0.5579\n",
      "Epoch 12/50\n",
      "448/448 [==============================] - 131s 293ms/step - loss: 1.1217 - accuracy: 0.5807 - val_loss: 1.1497 - val_accuracy: 0.5604\n",
      "Epoch 13/50\n",
      "448/448 [==============================] - 122s 273ms/step - loss: 1.0895 - accuracy: 0.5938 - val_loss: 1.1410 - val_accuracy: 0.5660\n",
      "Epoch 14/50\n",
      "448/448 [==============================] - 125s 280ms/step - loss: 1.0715 - accuracy: 0.5985 - val_loss: 1.1220 - val_accuracy: 0.5771\n",
      "Epoch 15/50\n",
      "448/448 [==============================] - 129s 288ms/step - loss: 1.0409 - accuracy: 0.6115 - val_loss: 1.1127 - val_accuracy: 0.5795\n",
      "Epoch 16/50\n",
      "448/448 [==============================] - 124s 276ms/step - loss: 1.0200 - accuracy: 0.6222 - val_loss: 1.1020 - val_accuracy: 0.5873\n",
      "Epoch 17/50\n",
      "448/448 [==============================] - 188s 420ms/step - loss: 0.9975 - accuracy: 0.6293 - val_loss: 1.1090 - val_accuracy: 0.5840\n",
      "Epoch 18/50\n",
      "448/448 [==============================] - 302s 674ms/step - loss: 0.9713 - accuracy: 0.6393 - val_loss: 1.0878 - val_accuracy: 0.5938\n",
      "Epoch 19/50\n",
      "448/448 [==============================] - 150s 335ms/step - loss: 0.9444 - accuracy: 0.6503 - val_loss: 1.0795 - val_accuracy: 0.6004\n",
      "Epoch 20/50\n",
      "448/448 [==============================] - 135s 300ms/step - loss: 0.9172 - accuracy: 0.6590 - val_loss: 1.0838 - val_accuracy: 0.5963\n",
      "Epoch 21/50\n",
      "448/448 [==============================] - 126s 281ms/step - loss: 0.8998 - accuracy: 0.6690 - val_loss: 1.0830 - val_accuracy: 0.6010\n",
      "Epoch 22/50\n",
      "448/448 [==============================] - 128s 285ms/step - loss: 0.8715 - accuracy: 0.6783 - val_loss: 1.0765 - val_accuracy: 0.5986\n",
      "Epoch 23/50\n",
      "448/448 [==============================] - 123s 274ms/step - loss: 0.8540 - accuracy: 0.6862 - val_loss: 1.0769 - val_accuracy: 0.6059\n",
      "Epoch 24/50\n",
      "448/448 [==============================] - 118s 263ms/step - loss: 0.8277 - accuracy: 0.6968 - val_loss: 1.0807 - val_accuracy: 0.6042\n",
      "Epoch 25/50\n",
      "448/448 [==============================] - 125s 279ms/step - loss: 0.8052 - accuracy: 0.7075 - val_loss: 1.0724 - val_accuracy: 0.6098\n",
      "Epoch 26/50\n",
      "448/448 [==============================] - 130s 291ms/step - loss: 0.7794 - accuracy: 0.7142 - val_loss: 1.0749 - val_accuracy: 0.6095\n",
      "Epoch 27/50\n",
      "448/448 [==============================] - 111s 247ms/step - loss: 0.7591 - accuracy: 0.7238 - val_loss: 1.0678 - val_accuracy: 0.6169\n",
      "Epoch 28/50\n",
      "448/448 [==============================] - 123s 273ms/step - loss: 0.7375 - accuracy: 0.7304 - val_loss: 1.0699 - val_accuracy: 0.6169\n",
      "Epoch 29/50\n",
      "448/448 [==============================] - 125s 279ms/step - loss: 0.7106 - accuracy: 0.7408 - val_loss: 1.0760 - val_accuracy: 0.6133\n",
      "Epoch 30/50\n",
      "448/448 [==============================] - 125s 278ms/step - loss: 0.6884 - accuracy: 0.7482 - val_loss: 1.0807 - val_accuracy: 0.6184\n",
      "Epoch 31/50\n",
      "448/448 [==============================] - 121s 271ms/step - loss: 0.6635 - accuracy: 0.7591 - val_loss: 1.0869 - val_accuracy: 0.6157\n",
      "Epoch 32/50\n",
      "448/448 [==============================] - 126s 280ms/step - loss: 0.6417 - accuracy: 0.7669 - val_loss: 1.1115 - val_accuracy: 0.6154\n",
      "Epoch 33/50\n",
      "448/448 [==============================] - 123s 275ms/step - loss: 0.6177 - accuracy: 0.7735 - val_loss: 1.1027 - val_accuracy: 0.6187\n",
      "Epoch 34/50\n",
      "448/448 [==============================] - 125s 279ms/step - loss: 0.6005 - accuracy: 0.7808 - val_loss: 1.1063 - val_accuracy: 0.6197\n",
      "Epoch 35/50\n",
      "448/448 [==============================] - 128s 286ms/step - loss: 0.5808 - accuracy: 0.7924 - val_loss: 1.1003 - val_accuracy: 0.6228\n",
      "Epoch 36/50\n",
      "448/448 [==============================] - 122s 271ms/step - loss: 0.5608 - accuracy: 0.7985 - val_loss: 1.1118 - val_accuracy: 0.6166\n",
      "Epoch 37/50\n",
      "448/448 [==============================] - 123s 275ms/step - loss: 0.5446 - accuracy: 0.8006 - val_loss: 1.1162 - val_accuracy: 0.6175\n",
      "Epoch 38/50\n",
      "448/448 [==============================] - 130s 290ms/step - loss: 0.5172 - accuracy: 0.8120 - val_loss: 1.1188 - val_accuracy: 0.6215\n",
      "Epoch 39/50\n",
      "448/448 [==============================] - 263s 588ms/step - loss: 0.5016 - accuracy: 0.8196 - val_loss: 1.1340 - val_accuracy: 0.6187\n",
      "Epoch 40/50\n",
      "448/448 [==============================] - 189s 421ms/step - loss: 0.4922 - accuracy: 0.8220 - val_loss: 1.1509 - val_accuracy: 0.6222\n",
      "Epoch 41/50\n",
      "448/448 [==============================] - 147s 329ms/step - loss: 0.4735 - accuracy: 0.8282 - val_loss: 1.1454 - val_accuracy: 0.6208\n",
      "Epoch 42/50\n",
      "448/448 [==============================] - 126s 282ms/step - loss: 0.4502 - accuracy: 0.8369 - val_loss: 1.1758 - val_accuracy: 0.6196\n",
      "Epoch 43/50\n",
      "448/448 [==============================] - 150s 335ms/step - loss: 0.4440 - accuracy: 0.8385 - val_loss: 1.1670 - val_accuracy: 0.6208\n",
      "Epoch 44/50\n",
      "448/448 [==============================] - 139s 310ms/step - loss: 0.4240 - accuracy: 0.8453 - val_loss: 1.1484 - val_accuracy: 0.6229\n",
      "Epoch 45/50\n",
      "448/448 [==============================] - 137s 305ms/step - loss: 0.4114 - accuracy: 0.8510 - val_loss: 1.2065 - val_accuracy: 0.6232\n",
      "Epoch 46/50\n",
      "448/448 [==============================] - 129s 288ms/step - loss: 0.3994 - accuracy: 0.8540 - val_loss: 1.1796 - val_accuracy: 0.6203\n",
      "Epoch 47/50\n",
      "448/448 [==============================] - 138s 308ms/step - loss: 0.3892 - accuracy: 0.8608 - val_loss: 1.2021 - val_accuracy: 0.6229\n",
      "Epoch 48/50\n",
      "448/448 [==============================] - 141s 314ms/step - loss: 0.3682 - accuracy: 0.8689 - val_loss: 1.2077 - val_accuracy: 0.6215\n",
      "Epoch 49/50\n",
      "448/448 [==============================] - 139s 310ms/step - loss: 0.3631 - accuracy: 0.8718 - val_loss: 1.2226 - val_accuracy: 0.6246\n",
      "Epoch 50/50\n",
      "448/448 [==============================] - 126s 282ms/step - loss: 0.3452 - accuracy: 0.8764 - val_loss: 1.2502 - val_accuracy: 0.6229\n"
     ]
    }
   ],
   "source": [
    "emotion_model_info = emotion_model.fit(\n",
    "        train_generator,\n",
    "        steps_per_epoch=28709 // 64,\n",
    "        epochs=50,\n",
    "        validation_data=validation_generator,\n",
    "        validation_steps=7178 // 64)\n"
   ]
  },
  {
   "cell_type": "code",
   "execution_count": 7,
   "id": "51432e57",
   "metadata": {},
   "outputs": [],
   "source": [
    "# save model structure in jason file\n",
    "model_json = emotion_model.to_json()\n",
    "with open(\"emotion_model.json\", \"w\") as json_file:\n",
    "    json_file.write(model_json)\n"
   ]
  },
  {
   "cell_type": "code",
   "execution_count": 8,
   "id": "c3912b45",
   "metadata": {},
   "outputs": [],
   "source": [
    "# save trained model weight in .h5 file\n",
    "emotion_model.save_weights('emotion_model.h5')"
   ]
  },
  {
   "cell_type": "code",
   "execution_count": null,
   "id": "a9156589",
   "metadata": {},
   "outputs": [],
   "source": []
  }
 ],
 "metadata": {
  "kernelspec": {
   "display_name": "Python 3 (ipykernel)",
   "language": "python",
   "name": "python3"
  },
  "language_info": {
   "codemirror_mode": {
    "name": "ipython",
    "version": 3
   },
   "file_extension": ".py",
   "mimetype": "text/x-python",
   "name": "python",
   "nbconvert_exporter": "python",
   "pygments_lexer": "ipython3",
   "version": "3.11.5"
  }
 },
 "nbformat": 4,
 "nbformat_minor": 5
}
