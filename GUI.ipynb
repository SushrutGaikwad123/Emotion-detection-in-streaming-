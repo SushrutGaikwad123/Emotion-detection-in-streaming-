{
 "cells": [
  {
   "cell_type": "code",
   "execution_count": 16,
   "id": "3034fd2d",
   "metadata": {},
   "outputs": [],
   "source": [
    "import cv2\n",
    "import numpy as np\n",
    "from keras.models import model_from_json\n",
    "import tkinter as tk\n",
    "from tkinter import filedialog\n",
    "from tkinter import *\n",
    "from tkinter import Label, Tk\n"
   ]
  },
  {
   "cell_type": "code",
   "execution_count": 17,
   "id": "bcf2599e",
   "metadata": {},
   "outputs": [],
   "source": [
    "emotion_dict = {0: \"Angry\", 1: \"Disgusted\", 2: \"Fearful\", 3: \"Happy\", 4: \"Neutral\", 5: \"Sad\", 6: \"Surprised\"}"
   ]
  },
  {
   "cell_type": "code",
   "execution_count": 18,
   "id": "9ce3cab2",
   "metadata": {},
   "outputs": [],
   "source": [
    "# Load model architecture from JSON file\n",
    "json_file = open('model/emotion_model.json', 'r')\n",
    "loaded_model_json = json_file.read()\n",
    "json_file.close()"
   ]
  },
  {
   "cell_type": "code",
   "execution_count": 19,
   "id": "9f27c118",
   "metadata": {},
   "outputs": [
    {
     "name": "stdout",
     "output_type": "stream",
     "text": [
      "Loaded model from disk\n"
     ]
    }
   ],
   "source": [
    "# Load model weights from H5 file\n",
    "emotion_model = model_from_json(loaded_model_json)\n",
    "emotion_model.load_weights(\"model/emotion_model.h5\")\n",
    "print(\"Loaded model from disk\")"
   ]
  },
  {
   "cell_type": "code",
   "execution_count": 20,
   "id": "486911b9",
   "metadata": {},
   "outputs": [
    {
     "name": "stdout",
     "output_type": "stream",
     "text": [
      "Loaded model from disk\n"
     ]
    }
   ],
   "source": [
    "# load weights into new model\n",
    "emotion_model.load_weights(\"model/emotion_model.h5\")\n",
    "print(\"Loaded model from disk\")"
   ]
  },
  {
   "cell_type": "code",
   "execution_count": 21,
   "id": "1d460b29",
   "metadata": {},
   "outputs": [],
   "source": [
    "def start_detection(source):\n",
    "    if source == \"webcam\":\n",
    "        cap = cv2.VideoCapture(0)\n",
    "    else:\n",
    "        video_path = filedialog.askopenfilename()\n",
    "        if video_path:\n",
    "            cap = cv2.VideoCapture(video_path)\n",
    "        else:\n",
    "            return\n",
    "\n",
    "    while True:\n",
    "        ret, frame = cap.read()\n",
    "        if not ret or frame is None:\n",
    "            break\n",
    "\n",
    "        frame = cv2.resize(frame, (1280, 720))\n",
    "        face_detector = cv2.CascadeClassifier('haarcascades/haarcascade_frontalface_default.xml')\n",
    "        gray_frame = cv2.cvtColor(frame, cv2.COLOR_BGR2GRAY)\n",
    "\n",
    "        num_faces = face_detector.detectMultiScale(gray_frame, scaleFactor=1.3, minNeighbors=5)\n",
    "\n",
    "        for (x, y, w, h) in num_faces:\n",
    "            cv2.rectangle(frame, (x, y-50), (x+w, y+h+10), (0, 255, 0), 4)\n",
    "            roi_gray_frame = gray_frame[y:y + h, x:x + w]\n",
    "            cropped_img = np.expand_dims(np.expand_dims(cv2.resize(roi_gray_frame, (48, 48)), -1), 0)\n",
    "\n",
    "            emotion_prediction = emotion_model.predict(cropped_img)\n",
    "            maxindex = int(np.argmax(emotion_prediction))\n",
    "            cv2.putText(frame, emotion_dict[maxindex], (x+5, y-20), cv2.FONT_HERSHEY_SIMPLEX, 1, (255, 0, 0), 2, cv2.LINE_AA)\n",
    "        #press \"s\" to Quit\n",
    "        cv2.imshow('Emotion Detection', frame)\n",
    "        if cv2.waitKey(1) & 0xFF == ord('s'):\n",
    "            break\n",
    "\n",
    "    cap.release()\n",
    "    cv2.destroyAllWindows()\n"
   ]
  },
  {
   "cell_type": "code",
   "execution_count": 22,
   "id": "be80c4c4",
   "metadata": {
    "scrolled": false
   },
   "outputs": [],
   "source": [
    "def start_webcam_detection():\n",
    "    start_detection(\"webcam\")\n",
    "\n",
    "def start_video_detection():\n",
    "    start_detection(\"video\")"
   ]
  },
  {
   "cell_type": "code",
   "execution_count": 23,
   "id": "08ec33ae",
   "metadata": {},
   "outputs": [],
   "source": [
    "# Create GUI window\n",
    "root = tk.Tk()\n",
    "root.title(\"Emotion Detection\")\n",
    "root.geometry('800x600')\n",
    "root.configure(background='#CDCDCD')\n",
    "\n",
    "\n",
    "# Add buttons for webcam and video detection\n",
    "label1 = Label(root, background='#CDCDCD', font=('arial',15,'bold'))\n",
    "sign_image = Label(root)\n",
    "label1.pack(side='bottom', expand='True')\n",
    "heading = Label(root,text='Emotion Detection',pady=20,font=('arial',25,'bold'))\n",
    "heading.configure(background='#CDCDCD',foreground=\"#364156\")\n",
    "heading.pack()\n",
    "\n",
    "webcam_button = tk.Button(root, text=\"Use Webcam\", command=start_webcam_detection)\n",
    "webcam_button.pack(pady=10)\n",
    "\n",
    "video_button = tk.Button(root, text=\"Use Video\", command=start_video_detection)\n",
    "video_button.pack(pady=10)\n",
    "\n",
    "root.mainloop()\n",
    "#press \"s\" to Quit"
   ]
  },
  {
   "cell_type": "code",
   "execution_count": 25,
   "id": "5ff1ca2f",
   "metadata": {},
   "outputs": [
    {
     "ename": "TclError",
     "evalue": "can't invoke \"label\" command: application has been destroyed",
     "output_type": "error",
     "traceback": [
      "\u001b[1;31m---------------------------------------------------------------------------\u001b[0m",
      "\u001b[1;31mTclError\u001b[0m                                  Traceback (most recent call last)",
      "Cell \u001b[1;32mIn[25], line 2\u001b[0m\n\u001b[0;32m      1\u001b[0m \u001b[38;5;66;03m# Add buttons for webcam and video detection\u001b[39;00m\n\u001b[1;32m----> 2\u001b[0m label1 \u001b[38;5;241m=\u001b[39m Label(root, background\u001b[38;5;241m=\u001b[39m\u001b[38;5;124m'\u001b[39m\u001b[38;5;124m#CDCDCD\u001b[39m\u001b[38;5;124m'\u001b[39m, font\u001b[38;5;241m=\u001b[39m(\u001b[38;5;124m'\u001b[39m\u001b[38;5;124marial\u001b[39m\u001b[38;5;124m'\u001b[39m,\u001b[38;5;241m15\u001b[39m,\u001b[38;5;124m'\u001b[39m\u001b[38;5;124mbold\u001b[39m\u001b[38;5;124m'\u001b[39m))\n\u001b[0;32m      3\u001b[0m sign_image \u001b[38;5;241m=\u001b[39m Label(root)\n\u001b[0;32m      4\u001b[0m label1\u001b[38;5;241m.\u001b[39mpack(side\u001b[38;5;241m=\u001b[39m\u001b[38;5;124m'\u001b[39m\u001b[38;5;124mbottom\u001b[39m\u001b[38;5;124m'\u001b[39m, expand\u001b[38;5;241m=\u001b[39m\u001b[38;5;124m'\u001b[39m\u001b[38;5;124mTrue\u001b[39m\u001b[38;5;124m'\u001b[39m)\n",
      "File \u001b[1;32m~\\anaconda3\\Lib\\tkinter\\__init__.py:3214\u001b[0m, in \u001b[0;36mLabel.__init__\u001b[1;34m(self, master, cnf, **kw)\u001b[0m\n\u001b[0;32m   3196\u001b[0m \u001b[38;5;28;01mdef\u001b[39;00m \u001b[38;5;21m__init__\u001b[39m(\u001b[38;5;28mself\u001b[39m, master\u001b[38;5;241m=\u001b[39m\u001b[38;5;28;01mNone\u001b[39;00m, cnf\u001b[38;5;241m=\u001b[39m{}, \u001b[38;5;241m*\u001b[39m\u001b[38;5;241m*\u001b[39mkw):\n\u001b[0;32m   3197\u001b[0m \u001b[38;5;250m    \u001b[39m\u001b[38;5;124;03m\"\"\"Construct a label widget with the parent MASTER.\u001b[39;00m\n\u001b[0;32m   3198\u001b[0m \n\u001b[0;32m   3199\u001b[0m \u001b[38;5;124;03m    STANDARD OPTIONS\u001b[39;00m\n\u001b[1;32m   (...)\u001b[0m\n\u001b[0;32m   3212\u001b[0m \n\u001b[0;32m   3213\u001b[0m \u001b[38;5;124;03m    \"\"\"\u001b[39;00m\n\u001b[1;32m-> 3214\u001b[0m     Widget\u001b[38;5;241m.\u001b[39m\u001b[38;5;21m__init__\u001b[39m(\u001b[38;5;28mself\u001b[39m, master, \u001b[38;5;124m'\u001b[39m\u001b[38;5;124mlabel\u001b[39m\u001b[38;5;124m'\u001b[39m, cnf, kw)\n",
      "File \u001b[1;32m~\\anaconda3\\Lib\\tkinter\\__init__.py:2628\u001b[0m, in \u001b[0;36mBaseWidget.__init__\u001b[1;34m(self, master, widgetName, cnf, kw, extra)\u001b[0m\n\u001b[0;32m   2626\u001b[0m \u001b[38;5;28;01mfor\u001b[39;00m k, v \u001b[38;5;129;01min\u001b[39;00m classes:\n\u001b[0;32m   2627\u001b[0m     \u001b[38;5;28;01mdel\u001b[39;00m cnf[k]\n\u001b[1;32m-> 2628\u001b[0m \u001b[38;5;28mself\u001b[39m\u001b[38;5;241m.\u001b[39mtk\u001b[38;5;241m.\u001b[39mcall(\n\u001b[0;32m   2629\u001b[0m     (widgetName, \u001b[38;5;28mself\u001b[39m\u001b[38;5;241m.\u001b[39m_w) \u001b[38;5;241m+\u001b[39m extra \u001b[38;5;241m+\u001b[39m \u001b[38;5;28mself\u001b[39m\u001b[38;5;241m.\u001b[39m_options(cnf))\n\u001b[0;32m   2630\u001b[0m \u001b[38;5;28;01mfor\u001b[39;00m k, v \u001b[38;5;129;01min\u001b[39;00m classes:\n\u001b[0;32m   2631\u001b[0m     k\u001b[38;5;241m.\u001b[39mconfigure(\u001b[38;5;28mself\u001b[39m, v)\n",
      "\u001b[1;31mTclError\u001b[0m: can't invoke \"label\" command: application has been destroyed"
     ]
    }
   ],
   "source": [
    "# Add buttons for webcam and video detection\n",
    "label1 = Label(root, background='#CDCDCD', font=('arial',15,'bold'))\n",
    "sign_image = Label(root)\n",
    "label1.pack(side='bottom', expand='True')\n",
    "heading = Label(root,text='Emotion Detection',pady=20,font=('arial',25,'bold'))\n",
    "heading.configure(background='#CDCDCD',foreground=\"#364156\")\n",
    "heading.pack()\n",
    "\n",
    "webcam_button = tk.Button(root, text=\"Use Webcam\", command=start_webcam_detection)\n",
    "webcam_button.pack(pady=10)\n",
    "\n",
    "video_button = tk.Button(root, text=\"Use Video\", command=start_video_detection)\n",
    "video_button.pack(pady=10)\n",
    "\n",
    "root.mainloop()\n",
    "#press \"s\" to Quit"
   ]
  },
  {
   "cell_type": "code",
   "execution_count": null,
   "id": "b30f9251",
   "metadata": {
    "scrolled": false
   },
   "outputs": [],
   "source": []
  },
  {
   "cell_type": "code",
   "execution_count": null,
   "id": "351c5cf4",
   "metadata": {},
   "outputs": [],
   "source": []
  }
 ],
 "metadata": {
  "kernelspec": {
   "display_name": "Python 3 (ipykernel)",
   "language": "python",
   "name": "python3"
  },
  "language_info": {
   "codemirror_mode": {
    "name": "ipython",
    "version": 3
   },
   "file_extension": ".py",
   "mimetype": "text/x-python",
   "name": "python",
   "nbconvert_exporter": "python",
   "pygments_lexer": "ipython3",
   "version": "3.11.5"
  }
 },
 "nbformat": 4,
 "nbformat_minor": 5
}
