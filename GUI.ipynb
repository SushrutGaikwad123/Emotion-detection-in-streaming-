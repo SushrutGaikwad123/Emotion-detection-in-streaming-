{
 "cells": [
  {
   "cell_type": "code",
   "execution_count": 15,
   "id": "3034fd2d",
   "metadata": {},
   "outputs": [],
   "source": [
    "import cv2\n",
    "import numpy as np\n",
    "from keras.models import model_from_json\n",
    "import tkinter as tk\n",
    "import tensorflow as tf\n",
    "from tkinter import filedialog\n",
    "from tkinter import *\n",
    "from tkinter import Label, Tk"
   ]
  },
  {
   "cell_type": "code",
   "execution_count": 2,
   "id": "bcf2599e",
   "metadata": {},
   "outputs": [],
   "source": [
    "emotion_dict = {0: \"Angry\", 1: \"Disgusted\", 2: \"Fearful\", 3: \"Happy\", 4: \"Neutral\", 5: \"Sad\", 6: \"Surprised\"}"
   ]
  },
  {
   "cell_type": "code",
   "execution_count": 3,
   "id": "9ce3cab2",
   "metadata": {},
   "outputs": [],
   "source": [
    "# Load model architecture from JSON file\n",
    "json_file = open('model/emotion_model.json', 'r')\n",
    "loaded_model_json = json_file.read()\n",
    "json_file.close()"
   ]
  },
  {
   "cell_type": "code",
   "execution_count": 4,
   "id": "9f27c118",
   "metadata": {},
   "outputs": [
    {
     "name": "stdout",
     "output_type": "stream",
     "text": [
      "WARNING:tensorflow:From C:\\Users\\User\\anaconda3\\Lib\\site-packages\\keras\\src\\backend.py:1398: The name tf.executing_eagerly_outside_functions is deprecated. Please use tf.compat.v1.executing_eagerly_outside_functions instead.\n",
      "\n",
      "WARNING:tensorflow:From C:\\Users\\User\\anaconda3\\Lib\\site-packages\\keras\\src\\layers\\pooling\\max_pooling2d.py:161: The name tf.nn.max_pool is deprecated. Please use tf.nn.max_pool2d instead.\n",
      "\n",
      "Loaded model from disk\n"
     ]
    }
   ],
   "source": [
    "# Load model weights from H5 file\n",
    "emotion_model = model_from_json(loaded_model_json)\n",
    "emotion_model.load_weights(\"model/emotion_model.h5\")\n",
    "print(\"Loaded model from disk\")"
   ]
  },
  {
   "cell_type": "code",
   "execution_count": 5,
   "id": "486911b9",
   "metadata": {},
   "outputs": [
    {
     "name": "stdout",
     "output_type": "stream",
     "text": [
      "Loaded model from disk\n"
     ]
    }
   ],
   "source": [
    "# load weights into new model\n",
    "emotion_model.load_weights(\"model/emotion_model.h5\")\n",
    "print(\"Loaded model from disk\")"
   ]
  },
  {
   "cell_type": "code",
   "execution_count": 6,
   "id": "1d460b29",
   "metadata": {},
   "outputs": [],
   "source": [
    "def start_detection(source):\n",
    "    if source == \"webcam\":\n",
    "        cap = cv2.VideoCapture(0)\n",
    "    else:\n",
    "        video_path = filedialog.askopenfilename()\n",
    "        if video_path:\n",
    "            cap = cv2.VideoCapture(video_path)\n",
    "        else:\n",
    "            return\n",
    "\n",
    "    while True:\n",
    "        ret, frame = cap.read()\n",
    "        if not ret or frame is None:\n",
    "            break\n",
    "\n",
    "        frame = cv2.resize(frame, (1280, 720))\n",
    "        face_detector = cv2.CascadeClassifier('haarcascades/haarcascade_frontalface_default.xml')\n",
    "        gray_frame = cv2.cvtColor(frame, cv2.COLOR_BGR2GRAY)\n",
    "\n",
    "        num_faces = face_detector.detectMultiScale(gray_frame, scaleFactor=1.3, minNeighbors=5)\n",
    "\n",
    "        for (x, y, w, h) in num_faces:\n",
    "            cv2.rectangle(frame, (x, y-50), (x+w, y+h+10), (0, 255, 0), 4)\n",
    "            roi_gray_frame = gray_frame[y:y + h, x:x + w]\n",
    "            cropped_img = np.expand_dims(np.expand_dims(cv2.resize(roi_gray_frame, (48, 48)), -1), 0)\n",
    "\n",
    "            emotion_prediction = emotion_model.predict(cropped_img)\n",
    "            maxindex = int(np.argmax(emotion_prediction))\n",
    "            cv2.putText(frame, emotion_dict[maxindex], (x+5, y-20), cv2.FONT_HERSHEY_SIMPLEX, 1, (255, 0, 0), 2, cv2.LINE_AA)\n",
    "        #press \"s\" to Quit\n",
    "        cv2.imshow('Emotion Detection', frame)\n",
    "        if cv2.waitKey(1) & 0xFF == ord('s'):\n",
    "            break\n",
    "\n",
    "    cap.release()\n",
    "    cv2.destroyAllWindows()\n"
   ]
  },
  {
   "cell_type": "code",
   "execution_count": 7,
   "id": "be80c4c4",
   "metadata": {
    "scrolled": false
   },
   "outputs": [],
   "source": [
    "def start_webcam_detection():\n",
    "    start_detection(\"webcam\")\n",
    "\n",
    "def start_video_detection():\n",
    "    start_detection(\"video\")"
   ]
  },
  {
   "cell_type": "code",
   "execution_count": null,
   "id": "5c7fa329",
   "metadata": {},
   "outputs": [],
   "source": []
  },
  {
   "cell_type": "code",
   "execution_count": 16,
   "id": "08ec33ae",
   "metadata": {},
   "outputs": [],
   "source": [
    "# Create GUI window\n",
    "root = tk.Tk()\n",
    "root.title(\"Emotion Detection\")\n",
    "root.geometry('800x600')\n",
    "root.configure(background='#CDCDCD')\n",
    "\n",
    "\n",
    "# Add buttons for webcam and video detection\n",
    "label1 = Label(root, background='#CDCDCD', font=('arial',15,'bold'))\n",
    "sign_image = Label(root)\n",
    "label1.pack(side='bottom', expand='True')\n",
    "heading = Label(root,text='Emotion Detection',pady=20,font=('arial',25,'bold'))\n",
    "heading.configure(background='#CDCDCD',foreground=\"#364156\")\n",
    "heading.pack()\n",
    "\n",
    "webcam_button = tk.Button(root, text=\"Use Webcam\", command=start_webcam_detection)\n",
    "webcam_button.pack(pady=10)\n",
    "\n",
    "video_button = tk.Button(root, text=\"Use Video\", command=start_video_detection)\n",
    "video_button.pack(pady=10)\n",
    "\n",
    "root.mainloop()\n",
    "#press \"s\" to Quit"
   ]
  },
  {
   "cell_type": "code",
   "execution_count": null,
   "id": "5ff1ca2f",
   "metadata": {},
   "outputs": [],
   "source": []
  },
  {
   "cell_type": "code",
   "execution_count": null,
   "id": "b30f9251",
   "metadata": {
    "scrolled": false
   },
   "outputs": [],
   "source": []
  },
  {
   "cell_type": "code",
   "execution_count": null,
   "id": "351c5cf4",
   "metadata": {},
   "outputs": [],
   "source": []
  }
 ],
 "metadata": {
  "kernelspec": {
   "display_name": "Python 3 (ipykernel)",
   "language": "python",
   "name": "python3"
  },
  "language_info": {
   "codemirror_mode": {
    "name": "ipython",
    "version": 3
   },
   "file_extension": ".py",
   "mimetype": "text/x-python",
   "name": "python",
   "nbconvert_exporter": "python",
   "pygments_lexer": "ipython3",
   "version": "3.11.5"
  }
 },
 "nbformat": 4,
 "nbformat_minor": 5
}
